{
 "cells": [
  {
   "cell_type": "code",
   "execution_count": 1,
   "metadata": {},
   "outputs": [
    {
     "data": {
      "text/plain": [
       "(50, 50, 1)"
      ]
     },
     "execution_count": 1,
     "metadata": {},
     "output_type": "execute_result"
    }
   ],
   "source": [
    "import numpy as np\n",
    "\n",
    "data=np.load('../res/Data/data.npy')\n",
    "target=np.load('../res/Data/target.npy')\n",
    "data.shape[1:]"
   ]
  },
  {
   "cell_type": "code",
   "execution_count": 2,
   "metadata": {},
   "outputs": [
    {
     "name": "stdout",
     "output_type": "stream",
     "text": [
      "Model: \"sequential\"\n",
      "_________________________________________________________________\n",
      "Layer (type)                 Output Shape              Param #   \n",
      "=================================================================\n",
      "conv2d (Conv2D)              (None, 48, 48, 256)       2560      \n",
      "_________________________________________________________________\n",
      "activation (Activation)      (None, 48, 48, 256)       0         \n",
      "_________________________________________________________________\n",
      "max_pooling2d (MaxPooling2D) (None, 24, 24, 256)       0         \n",
      "_________________________________________________________________\n",
      "conv2d_1 (Conv2D)            (None, 22, 22, 128)       295040    \n",
      "_________________________________________________________________\n",
      "activation_1 (Activation)    (None, 22, 22, 128)       0         \n",
      "_________________________________________________________________\n",
      "max_pooling2d_1 (MaxPooling2 (None, 11, 11, 128)       0         \n",
      "_________________________________________________________________\n",
      "flatten (Flatten)            (None, 15488)             0         \n",
      "_________________________________________________________________\n",
      "dropout (Dropout)            (None, 15488)             0         \n",
      "_________________________________________________________________\n",
      "dense (Dense)                (None, 2048)              31721472  \n",
      "_________________________________________________________________\n",
      "dropout_1 (Dropout)          (None, 2048)              0         \n",
      "_________________________________________________________________\n",
      "dense_1 (Dense)              (None, 256)               524544    \n",
      "_________________________________________________________________\n",
      "dropout_2 (Dropout)          (None, 256)               0         \n",
      "_________________________________________________________________\n",
      "dense_2 (Dense)              (None, 128)               32896     \n",
      "_________________________________________________________________\n",
      "dropout_3 (Dropout)          (None, 128)               0         \n",
      "_________________________________________________________________\n",
      "dense_3 (Dense)              (None, 64)                8256      \n",
      "_________________________________________________________________\n",
      "dense_4 (Dense)              (None, 8)                 520       \n",
      "=================================================================\n",
      "Total params: 32,585,288\n",
      "Trainable params: 32,585,288\n",
      "Non-trainable params: 0\n",
      "_________________________________________________________________\n"
     ]
    }
   ],
   "source": [
    "from keras.models import Sequential\n",
    "from keras.layers import Dense,Activation,Flatten\n",
    "from keras.layers import Conv2D,MaxPooling2D, Dropout\n",
    "\n",
    "model=Sequential()\n",
    "\n",
    "model.add(Conv2D(256,(3,3),input_shape=data.shape[1:]))\n",
    "model.add(Activation('relu'))\n",
    "model.add(MaxPooling2D(pool_size=(2,2)))\n",
    "\n",
    "model.add(Conv2D(128,(3,3)))\n",
    "model.add(Activation('relu'))\n",
    "model.add(MaxPooling2D(pool_size=(2,2)))\n",
    "\n",
    "model.add(Flatten())\n",
    "\n",
    "model.add(Dropout(0.5))\n",
    "model.add(Dense(2048, activation='relu'))\n",
    "model.add(Dropout(0.5))\n",
    "model.add(Dense(256, activation='relu'))\n",
    "model.add(Dropout(0.5))\n",
    "model.add(Dense(128, activation='relu'))\n",
    "model.add(Dropout(0.5))\n",
    "model.add(Dense(64, activation='relu'))\n",
    "\n",
    "model.add(Dense(target.shape[1], activation='softmax'))\n",
    "\n",
    "model.compile(loss='categorical_crossentropy',optimizer='adam',metrics=['accuracy'])\n",
    "\n",
    "model.summary()"
   ]
  },
  {
   "cell_type": "code",
   "execution_count": 3,
   "metadata": {},
   "outputs": [],
   "source": [
    "from sklearn.model_selection import train_test_split\n",
    "\n",
    "train_data,test_data,train_target,test_target=train_test_split(data,target,test_size=0.1)"
   ]
  },
  {
   "cell_type": "code",
   "execution_count": 4,
   "metadata": {},
   "outputs": [
    {
     "name": "stdout",
     "output_type": "stream",
     "text": [
      "Epoch 1/87\n",
      "148/148 [==============================] - 8s 40ms/step - loss: 2.0772 - accuracy: 0.1538 - val_loss: 1.9823 - val_accuracy: 0.2229\n",
      "Epoch 2/87\n",
      "148/148 [==============================] - 5s 32ms/step - loss: 1.9928 - accuracy: 0.2219 - val_loss: 1.8854 - val_accuracy: 0.2343\n",
      "Epoch 3/87\n",
      "148/148 [==============================] - 5s 32ms/step - loss: 1.8961 - accuracy: 0.2649 - val_loss: 1.8432 - val_accuracy: 0.2724\n",
      "Epoch 4/87\n",
      "148/148 [==============================] - 5s 32ms/step - loss: 1.8396 - accuracy: 0.2805 - val_loss: 1.7488 - val_accuracy: 0.3200\n",
      "Epoch 5/87\n",
      "148/148 [==============================] - 5s 32ms/step - loss: 1.7743 - accuracy: 0.3302 - val_loss: 1.6358 - val_accuracy: 0.3600\n",
      "Epoch 6/87\n",
      "148/148 [==============================] - 5s 32ms/step - loss: 1.6585 - accuracy: 0.3713 - val_loss: 1.4982 - val_accuracy: 0.4419\n",
      "Epoch 7/87\n",
      "148/148 [==============================] - 5s 32ms/step - loss: 1.5647 - accuracy: 0.4170 - val_loss: 1.3920 - val_accuracy: 0.4571\n",
      "Epoch 8/87\n",
      "148/148 [==============================] - 5s 32ms/step - loss: 1.5170 - accuracy: 0.4262 - val_loss: 1.3766 - val_accuracy: 0.4629\n",
      "Epoch 9/87\n",
      "148/148 [==============================] - 5s 32ms/step - loss: 1.4308 - accuracy: 0.4522 - val_loss: 1.2872 - val_accuracy: 0.5124\n",
      "Epoch 10/87\n",
      "148/148 [==============================] - 5s 32ms/step - loss: 1.3064 - accuracy: 0.4998 - val_loss: 1.2289 - val_accuracy: 0.5467\n",
      "Epoch 11/87\n",
      "148/148 [==============================] - 5s 32ms/step - loss: 1.2508 - accuracy: 0.5315 - val_loss: 1.2220 - val_accuracy: 0.5752\n",
      "Epoch 12/87\n",
      "148/148 [==============================] - 5s 32ms/step - loss: 1.1806 - accuracy: 0.5577 - val_loss: 1.1438 - val_accuracy: 0.6000\n",
      "Epoch 13/87\n",
      "148/148 [==============================] - 5s 32ms/step - loss: 1.1093 - accuracy: 0.5959 - val_loss: 1.0954 - val_accuracy: 0.6152\n",
      "Epoch 14/87\n",
      "148/148 [==============================] - 5s 32ms/step - loss: 1.0759 - accuracy: 0.6196 - val_loss: 1.0866 - val_accuracy: 0.6095\n",
      "Epoch 15/87\n",
      "148/148 [==============================] - 5s 32ms/step - loss: 0.9935 - accuracy: 0.6422 - val_loss: 1.0493 - val_accuracy: 0.6362\n",
      "Epoch 16/87\n",
      "148/148 [==============================] - 5s 32ms/step - loss: 0.9352 - accuracy: 0.6719 - val_loss: 1.0317 - val_accuracy: 0.6343\n",
      "Epoch 17/87\n",
      "148/148 [==============================] - 5s 32ms/step - loss: 0.8580 - accuracy: 0.7097 - val_loss: 0.9678 - val_accuracy: 0.6590\n",
      "Epoch 18/87\n",
      "148/148 [==============================] - 5s 32ms/step - loss: 0.8133 - accuracy: 0.7122 - val_loss: 0.9904 - val_accuracy: 0.6610\n",
      "Epoch 19/87\n",
      "148/148 [==============================] - 5s 32ms/step - loss: 0.7855 - accuracy: 0.7222 - val_loss: 0.9525 - val_accuracy: 0.6819\n",
      "Epoch 20/87\n",
      "148/148 [==============================] - 5s 32ms/step - loss: 0.7314 - accuracy: 0.7504 - val_loss: 0.9610 - val_accuracy: 0.6648\n",
      "Epoch 21/87\n",
      "148/148 [==============================] - 5s 32ms/step - loss: 0.6814 - accuracy: 0.7661 - val_loss: 0.9507 - val_accuracy: 0.6762\n",
      "Epoch 22/87\n",
      "148/148 [==============================] - 5s 32ms/step - loss: 0.6010 - accuracy: 0.8019 - val_loss: 0.8888 - val_accuracy: 0.6838\n",
      "Epoch 23/87\n",
      "148/148 [==============================] - 5s 32ms/step - loss: 0.5920 - accuracy: 0.7962 - val_loss: 0.9478 - val_accuracy: 0.6762\n",
      "Epoch 24/87\n",
      "148/148 [==============================] - 5s 32ms/step - loss: 0.5865 - accuracy: 0.8028 - val_loss: 0.9202 - val_accuracy: 0.6895\n",
      "Epoch 25/87\n",
      "148/148 [==============================] - 5s 32ms/step - loss: 0.5355 - accuracy: 0.8292 - val_loss: 0.9056 - val_accuracy: 0.6686\n",
      "Epoch 26/87\n",
      "148/148 [==============================] - 5s 32ms/step - loss: 0.5215 - accuracy: 0.8292 - val_loss: 0.9130 - val_accuracy: 0.6762\n",
      "Epoch 27/87\n",
      "148/148 [==============================] - 5s 32ms/step - loss: 0.4792 - accuracy: 0.8410 - val_loss: 0.8928 - val_accuracy: 0.7181\n",
      "Epoch 28/87\n",
      "148/148 [==============================] - 5s 32ms/step - loss: 0.4145 - accuracy: 0.8618 - val_loss: 0.8715 - val_accuracy: 0.7029\n",
      "Epoch 29/87\n",
      "148/148 [==============================] - 5s 32ms/step - loss: 0.4445 - accuracy: 0.8603 - val_loss: 0.8989 - val_accuracy: 0.7048\n",
      "Epoch 30/87\n",
      "148/148 [==============================] - 5s 32ms/step - loss: 0.4146 - accuracy: 0.8650 - val_loss: 0.9130 - val_accuracy: 0.6819\n",
      "Epoch 31/87\n",
      "148/148 [==============================] - 5s 32ms/step - loss: 0.3803 - accuracy: 0.8736 - val_loss: 0.8900 - val_accuracy: 0.7048\n",
      "Epoch 32/87\n",
      "148/148 [==============================] - 5s 32ms/step - loss: 0.3597 - accuracy: 0.8831 - val_loss: 0.9161 - val_accuracy: 0.7010\n",
      "Epoch 33/87\n",
      "148/148 [==============================] - 5s 32ms/step - loss: 0.3522 - accuracy: 0.8864 - val_loss: 0.8793 - val_accuracy: 0.7162\n",
      "Epoch 34/87\n",
      "148/148 [==============================] - 5s 32ms/step - loss: 0.3745 - accuracy: 0.8876 - val_loss: 0.8391 - val_accuracy: 0.7219\n",
      "Epoch 35/87\n",
      "148/148 [==============================] - 5s 32ms/step - loss: 0.3258 - accuracy: 0.8893 - val_loss: 0.9296 - val_accuracy: 0.7029\n",
      "Epoch 36/87\n",
      "148/148 [==============================] - 5s 32ms/step - loss: 0.2932 - accuracy: 0.9101 - val_loss: 0.9659 - val_accuracy: 0.7010\n",
      "Epoch 37/87\n",
      "148/148 [==============================] - 5s 32ms/step - loss: 0.3093 - accuracy: 0.9029 - val_loss: 0.9473 - val_accuracy: 0.7086\n",
      "Epoch 38/87\n",
      "148/148 [==============================] - 5s 32ms/step - loss: 0.2658 - accuracy: 0.9142 - val_loss: 0.9059 - val_accuracy: 0.7143\n",
      "Epoch 39/87\n",
      "148/148 [==============================] - 5s 32ms/step - loss: 0.2746 - accuracy: 0.9089 - val_loss: 0.9048 - val_accuracy: 0.7162\n",
      "Epoch 40/87\n",
      "148/148 [==============================] - 5s 32ms/step - loss: 0.2863 - accuracy: 0.9140 - val_loss: 0.9342 - val_accuracy: 0.6876\n",
      "Epoch 41/87\n",
      "148/148 [==============================] - 5s 32ms/step - loss: 0.2628 - accuracy: 0.9187 - val_loss: 0.9798 - val_accuracy: 0.7067\n",
      "Epoch 42/87\n",
      "148/148 [==============================] - 5s 32ms/step - loss: 0.2607 - accuracy: 0.9211 - val_loss: 0.9727 - val_accuracy: 0.7105\n",
      "Epoch 43/87\n",
      "148/148 [==============================] - 5s 32ms/step - loss: 0.2267 - accuracy: 0.9276 - val_loss: 0.9306 - val_accuracy: 0.7124\n",
      "Epoch 44/87\n",
      "148/148 [==============================] - 5s 32ms/step - loss: 0.2583 - accuracy: 0.9169 - val_loss: 0.9590 - val_accuracy: 0.7010\n",
      "Epoch 45/87\n",
      "148/148 [==============================] - 5s 32ms/step - loss: 0.2322 - accuracy: 0.9272 - val_loss: 0.8951 - val_accuracy: 0.7143\n",
      "Epoch 46/87\n",
      "148/148 [==============================] - 5s 32ms/step - loss: 0.2302 - accuracy: 0.9285 - val_loss: 1.0097 - val_accuracy: 0.7257\n",
      "Epoch 47/87\n",
      "148/148 [==============================] - 5s 32ms/step - loss: 0.1751 - accuracy: 0.9486 - val_loss: 0.9868 - val_accuracy: 0.7048\n",
      "Epoch 48/87\n",
      "148/148 [==============================] - 5s 32ms/step - loss: 0.2182 - accuracy: 0.9386 - val_loss: 0.9322 - val_accuracy: 0.7105\n",
      "Epoch 49/87\n",
      "148/148 [==============================] - 5s 32ms/step - loss: 0.1795 - accuracy: 0.9431 - val_loss: 1.0188 - val_accuracy: 0.7105\n",
      "Epoch 50/87\n",
      "148/148 [==============================] - 5s 32ms/step - loss: 0.2104 - accuracy: 0.9364 - val_loss: 1.0036 - val_accuracy: 0.7162\n",
      "Epoch 51/87\n",
      "148/148 [==============================] - 5s 31ms/step - loss: 0.1875 - accuracy: 0.9391 - val_loss: 0.9616 - val_accuracy: 0.7276\n",
      "Epoch 52/87\n",
      "148/148 [==============================] - 5s 32ms/step - loss: 0.2433 - accuracy: 0.9309 - val_loss: 0.9720 - val_accuracy: 0.7314\n",
      "Epoch 53/87\n",
      "148/148 [==============================] - 5s 31ms/step - loss: 0.1781 - accuracy: 0.9434 - val_loss: 0.9980 - val_accuracy: 0.7105\n",
      "Epoch 54/87\n",
      "148/148 [==============================] - 5s 32ms/step - loss: 0.1989 - accuracy: 0.9371 - val_loss: 0.9998 - val_accuracy: 0.7200\n",
      "Epoch 55/87\n",
      "148/148 [==============================] - 5s 32ms/step - loss: 0.1755 - accuracy: 0.9443 - val_loss: 1.0310 - val_accuracy: 0.7143\n",
      "Epoch 56/87\n",
      "148/148 [==============================] - 5s 32ms/step - loss: 0.1665 - accuracy: 0.9546 - val_loss: 0.9807 - val_accuracy: 0.7238\n",
      "Epoch 57/87\n",
      "148/148 [==============================] - 5s 32ms/step - loss: 0.1859 - accuracy: 0.9474 - val_loss: 1.0283 - val_accuracy: 0.7162\n"
     ]
    },
    {
     "name": "stdout",
     "output_type": "stream",
     "text": [
      "Epoch 58/87\n",
      "148/148 [==============================] - 5s 32ms/step - loss: 0.1592 - accuracy: 0.9521 - val_loss: 1.0194 - val_accuracy: 0.6952\n",
      "Epoch 59/87\n",
      "148/148 [==============================] - 5s 32ms/step - loss: 0.1538 - accuracy: 0.9561 - val_loss: 0.9161 - val_accuracy: 0.7295\n",
      "Epoch 60/87\n",
      "148/148 [==============================] - 5s 32ms/step - loss: 0.1607 - accuracy: 0.9479 - val_loss: 1.0119 - val_accuracy: 0.7143\n",
      "Epoch 61/87\n",
      "148/148 [==============================] - 5s 32ms/step - loss: 0.1691 - accuracy: 0.9516 - val_loss: 1.0972 - val_accuracy: 0.6990\n",
      "Epoch 62/87\n",
      "148/148 [==============================] - 5s 32ms/step - loss: 0.1521 - accuracy: 0.9528 - val_loss: 1.0179 - val_accuracy: 0.7238\n",
      "Epoch 63/87\n",
      "148/148 [==============================] - 5s 32ms/step - loss: 0.1524 - accuracy: 0.9558 - val_loss: 0.9756 - val_accuracy: 0.7105\n",
      "Epoch 64/87\n",
      "148/148 [==============================] - 5s 32ms/step - loss: 0.1436 - accuracy: 0.9600 - val_loss: 1.0794 - val_accuracy: 0.7029\n",
      "Epoch 65/87\n",
      "148/148 [==============================] - 5s 32ms/step - loss: 0.1587 - accuracy: 0.9598 - val_loss: 1.0192 - val_accuracy: 0.7105\n",
      "Epoch 66/87\n",
      "148/148 [==============================] - 5s 32ms/step - loss: 0.1347 - accuracy: 0.9583 - val_loss: 0.9910 - val_accuracy: 0.7219\n",
      "Epoch 67/87\n",
      "148/148 [==============================] - 5s 32ms/step - loss: 0.1516 - accuracy: 0.9587 - val_loss: 1.0548 - val_accuracy: 0.7105\n",
      "Epoch 68/87\n",
      "148/148 [==============================] - 5s 32ms/step - loss: 0.1540 - accuracy: 0.9536 - val_loss: 1.0090 - val_accuracy: 0.6990\n",
      "Epoch 69/87\n",
      "148/148 [==============================] - 5s 32ms/step - loss: 0.1450 - accuracy: 0.9554 - val_loss: 0.9387 - val_accuracy: 0.7086\n",
      "Epoch 70/87\n",
      "148/148 [==============================] - 5s 32ms/step - loss: 0.1329 - accuracy: 0.9580 - val_loss: 1.0577 - val_accuracy: 0.7067\n",
      "Epoch 71/87\n",
      "148/148 [==============================] - 5s 32ms/step - loss: 0.1552 - accuracy: 0.9550 - val_loss: 0.9673 - val_accuracy: 0.7257\n",
      "Epoch 72/87\n",
      "148/148 [==============================] - 5s 32ms/step - loss: 0.1296 - accuracy: 0.9615 - val_loss: 1.0934 - val_accuracy: 0.7181\n",
      "Epoch 73/87\n",
      "148/148 [==============================] - 5s 32ms/step - loss: 0.1277 - accuracy: 0.9639 - val_loss: 1.0327 - val_accuracy: 0.7124\n",
      "Epoch 74/87\n",
      "148/148 [==============================] - 5s 32ms/step - loss: 0.1321 - accuracy: 0.9603 - val_loss: 0.9699 - val_accuracy: 0.7162\n",
      "Epoch 75/87\n",
      "148/148 [==============================] - 5s 32ms/step - loss: 0.1120 - accuracy: 0.9658 - val_loss: 0.9808 - val_accuracy: 0.7352\n",
      "Epoch 76/87\n",
      "148/148 [==============================] - 5s 32ms/step - loss: 0.1357 - accuracy: 0.9577 - val_loss: 0.9532 - val_accuracy: 0.7295\n",
      "Epoch 77/87\n",
      "148/148 [==============================] - 5s 32ms/step - loss: 0.1358 - accuracy: 0.9614 - val_loss: 1.0481 - val_accuracy: 0.7162\n",
      "Epoch 78/87\n",
      "148/148 [==============================] - 5s 32ms/step - loss: 0.1308 - accuracy: 0.9630 - val_loss: 0.9331 - val_accuracy: 0.7314\n",
      "Epoch 79/87\n",
      "148/148 [==============================] - 5s 32ms/step - loss: 0.1074 - accuracy: 0.9684 - val_loss: 0.9951 - val_accuracy: 0.7124\n",
      "Epoch 80/87\n",
      "148/148 [==============================] - 5s 32ms/step - loss: 0.1274 - accuracy: 0.9671 - val_loss: 1.0131 - val_accuracy: 0.7200\n",
      "Epoch 81/87\n",
      "148/148 [==============================] - 5s 32ms/step - loss: 0.1029 - accuracy: 0.9705 - val_loss: 1.0335 - val_accuracy: 0.7219\n",
      "Epoch 82/87\n",
      "148/148 [==============================] - 5s 32ms/step - loss: 0.1086 - accuracy: 0.9691 - val_loss: 1.0382 - val_accuracy: 0.7276\n",
      "Epoch 83/87\n",
      "148/148 [==============================] - 5s 32ms/step - loss: 0.1163 - accuracy: 0.9684 - val_loss: 1.0558 - val_accuracy: 0.7181\n",
      "Epoch 84/87\n",
      "148/148 [==============================] - 5s 32ms/step - loss: 0.0969 - accuracy: 0.9750 - val_loss: 1.0345 - val_accuracy: 0.7143\n",
      "Epoch 85/87\n",
      "148/148 [==============================] - 5s 32ms/step - loss: 0.1261 - accuracy: 0.9663 - val_loss: 0.9319 - val_accuracy: 0.7086\n",
      "Epoch 86/87\n",
      "148/148 [==============================] - 5s 32ms/step - loss: 0.1131 - accuracy: 0.9704 - val_loss: 1.0132 - val_accuracy: 0.7143\n",
      "Epoch 87/87\n",
      "148/148 [==============================] - 5s 32ms/step - loss: 0.1039 - accuracy: 0.9658 - val_loss: 1.0228 - val_accuracy: 0.7314\n"
     ]
    }
   ],
   "source": [
    "history=model.fit(train_data,train_target, validation_data=(test_data,test_target), epochs=87)"
   ]
  },
  {
   "cell_type": "code",
   "execution_count": 5,
   "metadata": {},
   "outputs": [
    {
     "data": {
      "text/plain": [
       "[<matplotlib.lines.Line2D at 0x273287ec790>]"
      ]
     },
     "execution_count": 5,
     "metadata": {},
     "output_type": "execute_result"
    },
    {
     "data": {
      "image/png": "[encoded data removed]",
      "text/plain": [
       "<Figure size 432x288 with 1 Axes>"
      ]
     },
     "metadata": {
      "needs_background": "light"
     },
     "output_type": "display_data"
    }
   ],
   "source": [
    "from matplotlib import pyplot as plt\n",
    "\n",
    "plt.plot(history.history['loss'])\n",
    "plt.plot(history.history['val_loss'])"
   ]
  },
  {
   "cell_type": "code",
   "execution_count": 6,
   "metadata": {},
   "outputs": [
    {
     "data": {
      "text/plain": [
       "[<matplotlib.lines.Line2D at 0x272fbce9460>]"
      ]
     },
     "execution_count": 6,
     "metadata": {},
     "output_type": "execute_result"
    },
    {
     "data": {
      "image/png": "[encoded data removed]",
      "text/plain": [
       "<Figure size 432x288 with 1 Axes>"
      ]
     },
     "metadata": {
      "needs_background": "light"
     },
     "output_type": "display_data"
    }
   ],
   "source": [
    "plt.plot(history.history['accuracy'])\n",
    "plt.plot(history.history['val_accuracy'])"
   ]
  },
  {
   "cell_type": "code",
   "execution_count": 7,
   "metadata": {},
   "outputs": [
    {
     "name": "stdout",
     "output_type": "stream",
     "text": [
      "17/17 [==============================] - 0s 10ms/step - loss: 1.0228 - accuracy: 0.7314\n",
      "[1.0227822065353394, 0.7314285635948181]\n"
     ]
    }
   ],
   "source": [
    "accc = model.evaluate(test_data,test_target)\n",
    "print(accc)"
   ]
  },
  {
   "cell_type": "code",
   "execution_count": 8,
   "metadata": {},
   "outputs": [],
   "source": [
    "model.save_weights(f'../res/Models/modelAgeGender-{accc[1]}.h5')"
   ]
  },
  {
   "cell_type": "code",
   "execution_count": null,
   "metadata": {},
   "outputs": [],
   "source": []
  }
 ],
 "metadata": {
  "kernelspec": {
   "display_name": "Python 3",
   "language": "python",
   "name": "python3"
  },
  "language_info": {
   "codemirror_mode": {
    "name": "ipython",
    "version": 3
   },
   "file_extension": ".py",
   "mimetype": "text/x-python",
   "name": "python",
   "nbconvert_exporter": "python",
   "pygments_lexer": "ipython3",
   "version": "3.8.5"
  }
 },
 "nbformat": 4,
 "nbformat_minor": 4
}
