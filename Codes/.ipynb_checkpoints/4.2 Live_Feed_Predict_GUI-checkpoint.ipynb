{
 "cells": [
  {
   "cell_type": "code",
   "execution_count": 1,
   "metadata": {
    "scrolled": true
   },
   "outputs": [
    {
     "name": "stdout",
     "output_type": "stream",
     "text": [
      "Model: \"sequential\"\n",
      "_________________________________________________________________\n",
      "Layer (type)                 Output Shape              Param #   \n",
      "=================================================================\n",
      "conv2d (Conv2D)              (None, 48, 48, 256)       2560      \n",
      "_________________________________________________________________\n",
      "activation (Activation)      (None, 48, 48, 256)       0         \n",
      "_________________________________________________________________\n",
      "max_pooling2d (MaxPooling2D) (None, 24, 24, 256)       0         \n",
      "_________________________________________________________________\n",
      "conv2d_1 (Conv2D)            (None, 22, 22, 128)       295040    \n",
      "_________________________________________________________________\n",
      "activation_1 (Activation)    (None, 22, 22, 128)       0         \n",
      "_________________________________________________________________\n",
      "max_pooling2d_1 (MaxPooling2 (None, 11, 11, 128)       0         \n",
      "_________________________________________________________________\n",
      "flatten (Flatten)            (None, 15488)             0         \n",
      "_________________________________________________________________\n",
      "dropout (Dropout)            (None, 15488)             0         \n",
      "_________________________________________________________________\n",
      "dense (Dense)                (None, 2048)              31721472  \n",
      "_________________________________________________________________\n",
      "dropout_1 (Dropout)          (None, 2048)              0         \n",
      "_________________________________________________________________\n",
      "dense_1 (Dense)              (None, 256)               524544    \n",
      "_________________________________________________________________\n",
      "dropout_2 (Dropout)          (None, 256)               0         \n",
      "_________________________________________________________________\n",
      "dense_2 (Dense)              (None, 128)               32896     \n",
      "_________________________________________________________________\n",
      "dropout_3 (Dropout)          (None, 128)               0         \n",
      "_________________________________________________________________\n",
      "dense_3 (Dense)              (None, 64)                8256      \n",
      "_________________________________________________________________\n",
      "dense_4 (Dense)              (None, 8)                 520       \n",
      "=================================================================\n",
      "Total params: 32,585,288\n",
      "Trainable params: 32,585,288\n",
      "Non-trainable params: 0\n",
      "_________________________________________________________________\n"
     ]
    }
   ],
   "source": [
    "from keras.models import Sequential\n",
    "from keras.layers import Dense,Activation,Flatten\n",
    "from keras.layers import Conv2D,MaxPooling2D, Dropout\n",
    "\n",
    "model=Sequential()\n",
    "\n",
    "model.add(Conv2D(256, (3, 3),input_shape=(50, 50, 1)))\n",
    "model.add(Activation('relu'))\n",
    "model.add(MaxPooling2D(pool_size=(2,2)))\n",
    "\n",
    "model.add(Conv2D(128, (3, 3)))\n",
    "model.add(Activation('relu'))\n",
    "model.add(MaxPooling2D(pool_size=(2, 2)))\n",
    "\n",
    "model.add(Flatten())\n",
    "\n",
    "model.add(Dropout(0.5))\n",
    "model.add(Dense(2048, activation='relu'))\n",
    "model.add(Dropout(0.5))\n",
    "model.add(Dense(256, activation='relu'))\n",
    "model.add(Dropout(0.5))\n",
    "model.add(Dense(128, activation='relu'))\n",
    "model.add(Dropout(0.5))\n",
    "model.add(Dense(64, activation='relu'))\n",
    "\n",
    "model.add(Dense(8, activation='softmax'))\n",
    "\n",
    "model.compile(loss='categorical_crossentropy', optimizer='adam', metrics=['accuracy'])\n",
    "\n",
    "model.summary()"
   ]
  },
  {
   "cell_type": "code",
   "execution_count": 2,
   "metadata": {},
   "outputs": [],
   "source": [
    "model.load_weights('../res/Models/modelAgeGender-0.7314285635948181.h5')"
   ]
  },
  {
   "cell_type": "code",
   "execution_count": 3,
   "metadata": {},
   "outputs": [],
   "source": [
    "import cv2, pickle\n",
    "import dlib, os\n",
    "import numpy as np\n",
    "from numpy import random"
   ]
  },
  {
   "cell_type": "code",
   "execution_count": 4,
   "metadata": {},
   "outputs": [],
   "source": [
    "ages = []\n",
    "prio_ages = []\n",
    "i=0"
   ]
  },
  {
   "cell_type": "code",
   "execution_count": 5,
   "metadata": {},
   "outputs": [],
   "source": [
    "def most_frequent(List):\n",
    "    try:\n",
    "        counter = 0\n",
    "        num = List[0] \n",
    "\n",
    "        for i in List: \n",
    "            curr_frequency = List.count(i) \n",
    "            if(curr_frequency> counter): \n",
    "                counter = curr_frequency \n",
    "                num = i \n",
    "        return num\n",
    "    except:\n",
    "        pass"
   ]
  },
  {
   "cell_type": "code",
   "execution_count": 6,
   "metadata": {},
   "outputs": [],
   "source": [
    "def play_video(prio_min):\n",
    "    ad_dirs = os.listdir(\"../res/Data/Ads\")\n",
    "    for _dir in ad_dirs:\n",
    "        if(str(_dir)==str(category_dict[prio_min])):\n",
    "            ads = os.listdir(f\"../res/Data/Ads/{_dir}\")\n",
    "            num = random.randint(len(ads))\n",
    "            print(f\"Playing - ../res/Data/Ads/{_dir}/{ads[num]}\")\n",
    "    print(f\"High Priority Goes to : {category_dict[prio_min]}\")"
   ]
  },
  {
   "cell_type": "code",
   "execution_count": 7,
   "metadata": {},
   "outputs": [],
   "source": [
    "cam = cv2.VideoCapture('../res/test_data/videos/vid.mp4')#rtsp://192.168.1.6/live/ch00_1 'https://192.168.1.5:8080/video' '../res/test_data/videos/vid.mp4'\n",
    "\n",
    "dict_file = open(\"../res/Data/cat_dict.pkl\", \"rb\")\n",
    "category_dict = pickle.load(dict_file)\n",
    "\n",
    "face_detector = dlib.get_frontal_face_detector()\n",
    "margin = 20"
   ]
  },
  {
   "cell_type": "code",
   "execution_count": 8,
   "metadata": {},
   "outputs": [
    {
     "name": "stdout",
     "output_type": "stream",
     "text": [
      "Playing - ../res/Data/Ads/13-26_Male/ad_34613434_0771e18633168399_web.mp4\n",
      "High Priority Goes to : 13-26_Male\n",
      "Playing - ../res/Data/Ads/13-26_Male/mediarepo_34601977_2c2621d5b3c3614d_web.mp4\n",
      "High Priority Goes to : 13-26_Male\n",
      "Playing - ../res/Data/Ads/13-26_Male/mediarepo_34601977_2c2621d5b3c3614d_web.mp4\n",
      "High Priority Goes to : 13-26_Male\n",
      "Playing - ../res/Data/Ads/13-26_Male/ad_34558545_8ef2d33c85887943_web.mp4\n",
      "High Priority Goes to : 13-26_Male\n",
      "Playing - ../res/Data/Ads/13-26_Male/ad_34613434_0771e18633168399_web.mp4\n",
      "High Priority Goes to : 13-26_Male\n"
     ]
    }
   ],
   "source": [
    "while(True):\n",
    "    ret, feed = cam.read()\n",
    "    feed = cv2.resize(feed, (852, 480))\n",
    "    \n",
    "    faces = face_detector(feed)\n",
    "    \n",
    "    try:\n",
    "        for face in faces:\n",
    "\n",
    "            x1 = (face.left()) - margin\n",
    "            y1 = (face.top()) - margin\n",
    "            x2 = (face.right()) + margin\n",
    "            y2 = (face.bottom()) + margin\n",
    "\n",
    "            test_img = feed[y1:y2, x1:x2]\n",
    "            s_test = test_img\n",
    "\n",
    "            test_img = cv2.resize(test_img, (50,50))\n",
    "            test_img = cv2.cvtColor(test_img,cv2.COLOR_BGR2GRAY)\n",
    "            test_img = test_img/255\n",
    "            test_img = test_img.reshape(1, 50, 50, 1)\n",
    "\n",
    "            results = model.predict(test_img)\n",
    "            label = np.argmax(results, axis=1)[0]\n",
    "            acc = int(np.max(results, axis=1)[0]*100)\n",
    "\n",
    "            #print(results,label,category_dict[label],acc)\n",
    "            \n",
    "            ages.append(int(label))\n",
    "            \n",
    "            cv2.imwrite(f\"../res/Live_Face/{category_dict[label]}({acc}%).jpg\", s_test)\n",
    "\n",
    "            cv2.rectangle(feed, (x1, y1), (x2, y2), (0, 255, 0), 2)\n",
    "\n",
    "            cv2.putText(feed, f\"{category_dict[label]}({str(acc)}%)\", (x1, y1-1), cv2.FONT_HERSHEY_SIMPLEX, 1.5, (255, 255, 255), 2)\n",
    "\n",
    "    except:\n",
    "        pass\n",
    "    try:\n",
    "        prio = most_frequent(ages)\n",
    "        \n",
    "        if(i<120):\n",
    "            prio_ages.append(int(prio))\n",
    "            i+=1\n",
    "        else:\n",
    "            prio_min = most_frequent(prio_ages)\n",
    "            play_video(prio_min)\n",
    "            i=0\n",
    "            prio_ages=[]\n",
    "    except Exception as e:\n",
    "        pass\n",
    "        #print(e)\n",
    "    ages = []\n",
    "        \n",
    "    cv2.imshow('LIVE_FEED',feed)\n",
    "    k=cv2.waitKey(1)\n",
    "    if(k==27):\n",
    "        break\n",
    "cv2.destroyAllWindows()"
   ]
  }
 ],
 "metadata": {
  "kernelspec": {
   "display_name": "Python 3",
   "language": "python",
   "name": "python3"
  },
  "language_info": {
   "codemirror_mode": {
    "name": "ipython",
    "version": 3
   },
   "file_extension": ".py",
   "mimetype": "text/x-python",
   "name": "python",
   "nbconvert_exporter": "python",
   "pygments_lexer": "ipython3",
   "version": "3.8.5"
  }
 },
 "nbformat": 4,
 "nbformat_minor": 4
}
