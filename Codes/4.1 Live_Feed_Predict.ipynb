{
 "cells": [
  {
   "cell_type": "code",
   "execution_count": 1,
   "metadata": {},
   "outputs": [],
   "source": [
    "from keras.models import Sequential\n",
    "from keras.layers import Dense,Activation,Flatten\n",
    "from keras.layers import Conv2D,MaxPooling2D\n",
    "\n",
    "model=Sequential()\n",
    "\n",
    "model.add(Conv2D(256, (3, 3),input_shape=[50,50,1]))\n",
    "model.add(Activation('relu'))\n",
    "model.add(MaxPooling2D(pool_size=(2, 2)))\n",
    "\n",
    "model.add(Conv2D(128, (3, 3)))\n",
    "model.add(Activation('relu'))\n",
    "model.add(MaxPooling2D(pool_size=(2, 2)))\n",
    "\n",
    "model.add(Flatten())\n",
    "\n",
    "model.add(Dense(64, activation='relu'))\n",
    "\n",
    "model.add(Dense(4, activation='softmax'))\n",
    "\n",
    "model.compile(loss='categorical_crossentropy',optimizer='adam',metrics=['accuracy'])"
   ]
  },
  {
   "cell_type": "code",
   "execution_count": 2,
   "metadata": {},
   "outputs": [],
   "source": [
    "model.load_weights('../res/Models/modelAgeGender.h5')"
   ]
  },
  {
   "cell_type": "code",
   "execution_count": 3,
   "metadata": {},
   "outputs": [],
   "source": [
    "import cv2, pickle\n",
    "import dlib\n",
    "import numpy as np"
   ]
  },
  {
   "cell_type": "code",
   "execution_count": 4,
   "metadata": {},
   "outputs": [],
   "source": [
    "cam = cv2.VideoCapture('rtsp://192.168.1.6/live/ch00_1')#rtsp://192.168.1.6/live/ch00_1 'https://192.168.1.5:8080/video' '../res/test_data/videos/vid.mp4'\n",
    "\n",
    "dict_file = open(\"../res/Data/cat_dict.pkl\", \"rb\")\n",
    "category_dict = pickle.load(dict_file)\n",
    "\n",
    "face_detector = dlib.get_frontal_face_detector()\n",
    "margin = 20"
   ]
  },
  {
   "cell_type": "code",
   "execution_count": 5,
   "metadata": {},
   "outputs": [],
   "source": [
    "while(True):\n",
    "    ret, feed = cam.read()\n",
    "    feed = cv2.resize(feed, (852, 480))\n",
    "    \n",
    "    faces = face_detector(feed)\n",
    "    \n",
    "    try:\n",
    "        for face in faces:\n",
    "\n",
    "            x1 = (face.left()) - margin\n",
    "            y1 = (face.top()) - margin\n",
    "            x2 = (face.right()) + margin\n",
    "            y2 = (face.bottom()) + margin\n",
    "\n",
    "            test_img = feed[y1:y2, x1:x2]\n",
    "            s_test = test_img\n",
    "\n",
    "            test_img = cv2.resize(test_img, (50,50))\n",
    "            test_img = cv2.cvtColor(test_img,cv2.COLOR_BGR2GRAY)\n",
    "            test_img = test_img/255\n",
    "            test_img = test_img.reshape(1, 50, 50, 1)\n",
    "\n",
    "            results = model.predict(test_img)\n",
    "            label = np.argmax(results, axis=1)[0]\n",
    "            acc = int(np.max(results, axis=1)[0]*100)\n",
    "\n",
    "            print(results,label,category_dict[label],acc)\n",
    "            \n",
    "            cv2.imwrite(f\"../res/Live_Face/{category_dict[label]}({acc}%).jpg\", s_test)\n",
    "\n",
    "            cv2.rectangle(feed, (x1, y1), (x2, y2),(0, 255, 0), 2)\n",
    "\n",
    "            cv2.putText(feed, f\"{category_dict[label]}({str(acc)}%)\", (x1, y1-1), cv2.FONT_HERSHEY_SIMPLEX, 1.5, (255, 255, 255), 2)\n",
    "\n",
    "    except:\n",
    "        pass\n",
    "    \n",
    "    cv2.imshow('LIVE_FEED',feed)\n",
    "    k=cv2.waitKey(1)\n",
    "    if(k==27):\n",
    "        break\n",
    "cv2.destroyAllWindows()"
   ]
  },
  {
   "cell_type": "code",
   "execution_count": null,
   "metadata": {},
   "outputs": [],
   "source": []
  }
 ],
 "metadata": {
  "kernelspec": {
   "display_name": "Python 3",
   "language": "python",
   "name": "python3"
  },
  "language_info": {
   "codemirror_mode": {
    "name": "ipython",
    "version": 3
   },
   "file_extension": ".py",
   "mimetype": "text/x-python",
   "name": "python",
   "nbconvert_exporter": "python",
   "pygments_lexer": "ipython3",
   "version": "3.8.5"
  }
 },
 "nbformat": 4,
 "nbformat_minor": 4
}
